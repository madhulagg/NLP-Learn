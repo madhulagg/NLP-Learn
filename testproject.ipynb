{
 "cells": [
  {
   "cell_type": "code",
   "execution_count": null,
   "id": "a7ec9c72-5d7e-47d5-a811-bab57cc590e6",
   "metadata": {},
   "outputs": [
    {
     "ename": "",
     "evalue": "",
     "output_type": "error",
     "traceback": [
      "\u001b[1;31mRunning cells with 'Python 3.13.0' requires the ipykernel package.\n",
      "\u001b[1;31mRun the following command to install 'ipykernel' into the Python environment. \n",
      "\u001b[1;31mCommand: '/opt/homebrew/bin/python3 -m pip install ipykernel -U --user --force-reinstall'"
     ]
    }
   ],
   "source": [
    "import random"
   ]
  },
  {
   "cell_type": "code",
   "execution_count": 2,
   "id": "f05a2e44-8d1d-496b-a8ae-a0f304bb9e0f",
   "metadata": {},
   "outputs": [],
   "source": [
    "word_bank = ['rizz', 'ohio', 'sigma', 'tiktok', 'skibidi']"
   ]
  },
  {
   "cell_type": "code",
   "execution_count": 3,
   "id": "1005af85-181d-4a5a-ad0c-4b349a5d192f",
   "metadata": {},
   "outputs": [],
   "source": [
    "word = random.choice(word_bank)"
   ]
  },
  {
   "cell_type": "code",
   "execution_count": 4,
   "id": "11b5474c-b5ac-4f1f-8834-93d1288e3672",
   "metadata": {},
   "outputs": [],
   "source": [
    "guessedWord = ['_'] * len(word)"
   ]
  },
  {
   "cell_type": "code",
   "execution_count": 5,
   "id": "66435c25-dbb2-4985-8f46-aa1967035233",
   "metadata": {},
   "outputs": [],
   "source": [
    "attempts = 10"
   ]
  },
  {
   "cell_type": "code",
   "execution_count": 6,
   "id": "0fd42544-b473-4908-9745-f6d4ad456d32",
   "metadata": {},
   "outputs": [
    {
     "name": "stdout",
     "output_type": "stream",
     "text": [
      "\n",
      "Current word: _ _ _ _ _ _ _\n"
     ]
    },
    {
     "name": "stdout",
     "output_type": "stream",
     "text": [
      "Guess a letter:  a\n"
     ]
    },
    {
     "name": "stdout",
     "output_type": "stream",
     "text": [
      "Wrong guess! Attempts left: 9\n",
      "\n",
      "Current word: _ _ _ _ _ _ _\n"
     ]
    },
    {
     "name": "stdout",
     "output_type": "stream",
     "text": [
      "Guess a letter:  o\n"
     ]
    },
    {
     "name": "stdout",
     "output_type": "stream",
     "text": [
      "Wrong guess! Attempts left: 8\n",
      "\n",
      "Current word: _ _ _ _ _ _ _\n"
     ]
    },
    {
     "name": "stdout",
     "output_type": "stream",
     "text": [
      "Guess a letter:  s\n"
     ]
    },
    {
     "name": "stdout",
     "output_type": "stream",
     "text": [
      "Great guess!\n",
      "\n",
      "Current word: s _ _ _ _ _ _\n"
     ]
    },
    {
     "name": "stdout",
     "output_type": "stream",
     "text": [
      "Guess a letter:  k\n"
     ]
    },
    {
     "name": "stdout",
     "output_type": "stream",
     "text": [
      "Great guess!\n",
      "\n",
      "Current word: s k _ _ _ _ _\n"
     ]
    },
    {
     "name": "stdout",
     "output_type": "stream",
     "text": [
      "Guess a letter:  s\n"
     ]
    },
    {
     "name": "stdout",
     "output_type": "stream",
     "text": [
      "Great guess!\n",
      "\n",
      "Current word: s k _ _ _ _ _\n"
     ]
    },
    {
     "name": "stdout",
     "output_type": "stream",
     "text": [
      "Guess a letter:  a\n"
     ]
    },
    {
     "name": "stdout",
     "output_type": "stream",
     "text": [
      "Wrong guess! Attempts left: 7\n",
      "\n",
      "Current word: s k _ _ _ _ _\n"
     ]
    },
    {
     "name": "stdout",
     "output_type": "stream",
     "text": [
      "Guess a letter:  \n"
     ]
    },
    {
     "name": "stdout",
     "output_type": "stream",
     "text": [
      "Great guess!\n",
      "\n",
      "Current word: s k _ _ _ _ _\n"
     ]
    },
    {
     "name": "stdout",
     "output_type": "stream",
     "text": [
      "Guess a letter:  a\n"
     ]
    },
    {
     "name": "stdout",
     "output_type": "stream",
     "text": [
      "Wrong guess! Attempts left: 6\n",
      "\n",
      "Current word: s k _ _ _ _ _\n"
     ]
    },
    {
     "name": "stdout",
     "output_type": "stream",
     "text": [
      "Guess a letter:  a\n"
     ]
    },
    {
     "name": "stdout",
     "output_type": "stream",
     "text": [
      "Wrong guess! Attempts left: 5\n",
      "\n",
      "Current word: s k _ _ _ _ _\n"
     ]
    },
    {
     "name": "stdout",
     "output_type": "stream",
     "text": [
      "Guess a letter:  a\n"
     ]
    },
    {
     "name": "stdout",
     "output_type": "stream",
     "text": [
      "Wrong guess! Attempts left: 4\n",
      "\n",
      "Current word: s k _ _ _ _ _\n"
     ]
    },
    {
     "name": "stdout",
     "output_type": "stream",
     "text": [
      "Guess a letter:  a\n"
     ]
    },
    {
     "name": "stdout",
     "output_type": "stream",
     "text": [
      "Wrong guess! Attempts left: 3\n",
      "\n",
      "Current word: s k _ _ _ _ _\n"
     ]
    },
    {
     "name": "stdout",
     "output_type": "stream",
     "text": [
      "Guess a letter:  a\n"
     ]
    },
    {
     "name": "stdout",
     "output_type": "stream",
     "text": [
      "Wrong guess! Attempts left: 2\n",
      "\n",
      "Current word: s k _ _ _ _ _\n"
     ]
    },
    {
     "name": "stdout",
     "output_type": "stream",
     "text": [
      "Guess a letter:  a\n"
     ]
    },
    {
     "name": "stdout",
     "output_type": "stream",
     "text": [
      "Wrong guess! Attempts left: 1\n",
      "\n",
      "Current word: s k _ _ _ _ _\n"
     ]
    },
    {
     "name": "stdout",
     "output_type": "stream",
     "text": [
      "Guess a letter:  a\n"
     ]
    },
    {
     "name": "stdout",
     "output_type": "stream",
     "text": [
      "\n",
      "You've run out of attempts! The word was: skibidi\n"
     ]
    }
   ],
   "source": [
    "while attempts > 0:\n",
    "    print('\\nCurrent word: ' + ' '.join(guessedWord))\n",
    "\n",
    "    guess = input('Guess a letter: ').lower()\n",
    "\n",
    "    if guess in word:\n",
    "        for i in range(len(word)):\n",
    "            if word[i] == guess:\n",
    "                guessedWord[i] = guess\n",
    "        print('Great guess!')\n",
    "        if '_' not in guessedWord:\n",
    "            print('\\nCongratulations!! You guessed the word: ' + word)\n",
    "            break\n",
    "    else:\n",
    "        attempts -= 1\n",
    "        if attempts > 0:\n",
    "            print('Wrong guess! Attempts left: ' + str(attempts))\n",
    "        else:\n",
    "            print('\\nYou\\'ve run out of attempts! The word was: ' + word)"
   ]
  }
 ],
 "metadata": {
  "kernelspec": {
   "display_name": "Python 3",
   "language": "python",
   "name": "python3"
  },
  "language_info": {
   "codemirror_mode": {
    "name": "ipython",
    "version": 3
   },
   "file_extension": ".py",
   "mimetype": "text/x-python",
   "name": "python",
   "nbconvert_exporter": "python",
   "pygments_lexer": "ipython3",
   "version": "3.13.0"
  }
 },
 "nbformat": 4,
 "nbformat_minor": 5
}
