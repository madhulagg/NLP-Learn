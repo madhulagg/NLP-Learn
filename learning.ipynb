{
 "cells": [
  {
   "cell_type": "code",
   "execution_count": 1,
   "id": "3fad7f7e-d30b-483f-a37f-d2554c9a86df",
   "metadata": {},
   "outputs": [],
   "source": [
    "#stemming and lemittisation\n",
    "#stemming -> same words ko saath saath map say eating, eat, like that{\n",
    "# sometimes it mess up, like airline->airlin something like that\n",
    "# }\n",
    "#lemittisation -> words with same meaning ko aapas main map krna"
   ]
  },
  {
   "cell_type": "code",
   "execution_count": null,
   "id": "1a7a2126-dc18-49b7-ae03-b44c85c7a40a",
   "metadata": {},
   "outputs": [],
   "source": []
  }
 ],
 "metadata": {
  "kernelspec": {
   "display_name": "Python 3 (ipykernel)",
   "language": "python",
   "name": "python3"
  },
  "language_info": {
   "codemirror_mode": {
    "name": "ipython",
    "version": 3
   },
   "file_extension": ".py",
   "mimetype": "text/x-python",
   "name": "python",
   "nbconvert_exporter": "python",
   "pygments_lexer": "ipython3",
   "version": "3.12.7"
  }
 },
 "nbformat": 4,
 "nbformat_minor": 5
}
